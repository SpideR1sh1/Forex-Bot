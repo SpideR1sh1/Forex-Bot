{
 "cells": [
  {
   "cell_type": "code",
   "execution_count": 1,
   "id": "be59ec5e",
   "metadata": {},
   "outputs": [
    {
     "name": "stdout",
     "output_type": "stream",
     "text": [
      "Requirement already satisfied: requests in c:\\users\\aayus\\anaconda3\\lib\\site-packages (2.25.1)\n",
      "Requirement already satisfied: chardet<5,>=3.0.2 in c:\\users\\aayus\\anaconda3\\lib\\site-packages (from requests) (4.0.0)\n",
      "Requirement already satisfied: certifi>=2017.4.17 in c:\\users\\aayus\\anaconda3\\lib\\site-packages (from requests) (2020.12.5)\n",
      "Requirement already satisfied: idna<3,>=2.5 in c:\\users\\aayus\\anaconda3\\lib\\site-packages (from requests) (2.10)\n",
      "Requirement already satisfied: urllib3<1.27,>=1.21.1 in c:\\users\\aayus\\anaconda3\\lib\\site-packages (from requests) (1.26.4)\n"
     ]
    }
   ],
   "source": [
    "!pip install requests\n",
    "import numpy as np\n",
    "import pandas as pd\n",
    "import requests\n",
    "import xlsxwriter\n",
    "import math"
   ]
  },
  {
   "cell_type": "code",
   "execution_count": 2,
   "id": "41829811",
   "metadata": {},
   "outputs": [
    {
     "data": {
      "text/html": [
       "<div>\n",
       "<style scoped>\n",
       "    .dataframe tbody tr th:only-of-type {\n",
       "        vertical-align: middle;\n",
       "    }\n",
       "\n",
       "    .dataframe tbody tr th {\n",
       "        vertical-align: top;\n",
       "    }\n",
       "\n",
       "    .dataframe thead th {\n",
       "        text-align: right;\n",
       "    }\n",
       "</style>\n",
       "<table border=\"1\" class=\"dataframe\">\n",
       "  <thead>\n",
       "    <tr style=\"text-align: right;\">\n",
       "      <th></th>\n",
       "      <th>Ticker</th>\n",
       "    </tr>\n",
       "  </thead>\n",
       "  <tbody>\n",
       "    <tr>\n",
       "      <th>0</th>\n",
       "      <td>A</td>\n",
       "    </tr>\n",
       "    <tr>\n",
       "      <th>1</th>\n",
       "      <td>AAL</td>\n",
       "    </tr>\n",
       "    <tr>\n",
       "      <th>2</th>\n",
       "      <td>AAP</td>\n",
       "    </tr>\n",
       "    <tr>\n",
       "      <th>3</th>\n",
       "      <td>AAPL</td>\n",
       "    </tr>\n",
       "    <tr>\n",
       "      <th>4</th>\n",
       "      <td>ABBV</td>\n",
       "    </tr>\n",
       "  </tbody>\n",
       "</table>\n",
       "</div>"
      ],
      "text/plain": [
       "  Ticker\n",
       "0      A\n",
       "1    AAL\n",
       "2    AAP\n",
       "3   AAPL\n",
       "4   ABBV"
      ]
     },
     "execution_count": 2,
     "metadata": {},
     "output_type": "execute_result"
    }
   ],
   "source": [
    "stocks = pd.read_csv('sp_500_stocks.csv')\n",
    "stocks.head()"
   ]
  },
  {
   "cell_type": "code",
   "execution_count": 3,
   "id": "50022ba7",
   "metadata": {},
   "outputs": [],
   "source": [
    "from secrets import IEX_CLOUD_API_TOKEN"
   ]
  },
  {
   "cell_type": "code",
   "execution_count": 4,
   "id": "7cfda53c",
   "metadata": {
    "scrolled": false
   },
   "outputs": [
    {
     "name": "stdout",
     "output_type": "stream",
     "text": [
      "{'avgTotalVolume': 2257429, 'calculationPrice': 'close', 'change': -30.52, 'changePercent': -0.01361, 'close': 2219.83, 'closeSource': 'ifoilafc', 'closeTime': 1686763619006, 'companyName': 'Alphabet Inc - Class A', 'currency': 'USD', 'delayedPrice': 2271.72, 'delayedPriceTime': 1721439938883, 'extendedChange': 1.96, 'extendedChangePercent': 0.00088, 'extendedPrice': 2204.18, 'extendedPriceTime': 1714341012502, 'high': 2339.02, 'highSource': 'ciXmrIErtl e  eapei', 'highTime': 1733421474092, 'iexAskPrice': None, 'iexAskSize': None, 'iexBidPrice': None, 'iexBidSize': None, 'iexClose': 2244.86, 'iexCloseTime': 1693562707709, 'iexLastUpdated': None, 'iexMarketPercent': None, 'iexOpen': 2286.26, 'iexOpenTime': 1733440450602, 'iexRealtimePrice': None, 'iexRealtimeSize': None, 'iexVolume': None, 'lastTradeTime': 1721080237438, 'latestPrice': 2264.2, 'latestSource': 'Close', 'latestTime': 'May 20, 2022', 'latestUpdate': 1711791788779, 'latestVolume': 2492354, 'low': 2202.728, 'lowSource': 'em ei ul t5edcin1prayed', 'lowTime': 1677333627157, 'marketCap': 1520789574050, 'oddLotDelayedPrice': 2186.6, 'oddLotDelayedPriceTime': 1712764952506, 'open': 2339.02, 'openTime': 1685961609332, 'openSource': 'oacilffi', 'peRatio': 19.8, 'previousClose': 2262.41, 'previousVolume': 1748849, 'primaryExchange': 'SQNDAA', 'symbol': 'GOOGL', 'volume': 2448329, 'week52High': 3145.44, 'week52Low': 2182.938, 'ytdChange': -0.2707371708881618, 'isUSMarketOpen': False}\n"
     ]
    }
   ],
   "source": [
    "symbol='GOOGL'\n",
    "api_url = f'https://sandbox.iexapis.com/stable/stock/{symbol}/quote?token={IEX_CLOUD_API_TOKEN}'\n",
    "data = requests.get(api_url).json()\n",
    "print(data)"
   ]
  },
  {
   "cell_type": "code",
   "execution_count": 5,
   "id": "3fe19c46",
   "metadata": {},
   "outputs": [],
   "source": [
    "price = data['latestPrice']\n",
    "market_cap = data['marketCap']\n",
    "prev_close = data['previousClose']"
   ]
  },
  {
   "cell_type": "code",
   "execution_count": 6,
   "id": "7cc020c1",
   "metadata": {},
   "outputs": [
    {
     "data": {
      "text/html": [
       "<div>\n",
       "<style scoped>\n",
       "    .dataframe tbody tr th:only-of-type {\n",
       "        vertical-align: middle;\n",
       "    }\n",
       "\n",
       "    .dataframe tbody tr th {\n",
       "        vertical-align: top;\n",
       "    }\n",
       "\n",
       "    .dataframe thead th {\n",
       "        text-align: right;\n",
       "    }\n",
       "</style>\n",
       "<table border=\"1\" class=\"dataframe\">\n",
       "  <thead>\n",
       "    <tr style=\"text-align: right;\">\n",
       "      <th></th>\n",
       "      <th>Ticker</th>\n",
       "      <th>Stock Price</th>\n",
       "      <th>Market Cap</th>\n",
       "      <th>Number of Shares to Buy</th>\n",
       "      <th>Previous Closing Price</th>\n",
       "    </tr>\n",
       "  </thead>\n",
       "  <tbody>\n",
       "  </tbody>\n",
       "</table>\n",
       "</div>"
      ],
      "text/plain": [
       "Empty DataFrame\n",
       "Columns: [Ticker, Stock Price, Market Cap, Number of Shares to Buy, Previous Closing Price]\n",
       "Index: []"
      ]
     },
     "execution_count": 6,
     "metadata": {},
     "output_type": "execute_result"
    }
   ],
   "source": [
    "my_columns = ['Ticker', 'Stock Price', 'Market Cap', 'Number of Shares to Buy', 'Previous Closing Price']\n",
    "final_dataframe = pd.DataFrame(columns = my_columns)\n",
    "final_dataframe"
   ]
  },
  {
   "cell_type": "code",
   "execution_count": 7,
   "id": "c5326838",
   "metadata": {},
   "outputs": [
    {
     "data": {
      "text/html": [
       "<div>\n",
       "<style scoped>\n",
       "    .dataframe tbody tr th:only-of-type {\n",
       "        vertical-align: middle;\n",
       "    }\n",
       "\n",
       "    .dataframe tbody tr th {\n",
       "        vertical-align: top;\n",
       "    }\n",
       "\n",
       "    .dataframe thead th {\n",
       "        text-align: right;\n",
       "    }\n",
       "</style>\n",
       "<table border=\"1\" class=\"dataframe\">\n",
       "  <thead>\n",
       "    <tr style=\"text-align: right;\">\n",
       "      <th></th>\n",
       "      <th>Ticker</th>\n",
       "      <th>Stock Price</th>\n",
       "      <th>Market Cap</th>\n",
       "      <th>Number of Shares to Buy</th>\n",
       "      <th>Previous Closing Price</th>\n",
       "    </tr>\n",
       "  </thead>\n",
       "  <tbody>\n",
       "    <tr>\n",
       "      <th>0</th>\n",
       "      <td>GOOGL</td>\n",
       "      <td>2264.2</td>\n",
       "      <td>1520789574050</td>\n",
       "      <td>N/A</td>\n",
       "      <td>2262.41</td>\n",
       "    </tr>\n",
       "  </tbody>\n",
       "</table>\n",
       "</div>"
      ],
      "text/plain": [
       "  Ticker  Stock Price     Market Cap Number of Shares to Buy  \\\n",
       "0  GOOGL       2264.2  1520789574050                     N/A   \n",
       "\n",
       "   Previous Closing Price  \n",
       "0                 2262.41  "
      ]
     },
     "execution_count": 7,
     "metadata": {},
     "output_type": "execute_result"
    }
   ],
   "source": [
    "final_dataframe.append(\n",
    "    pd.Series(\n",
    "        [\n",
    "            symbol,\n",
    "            price,\n",
    "            market_cap,\n",
    "            'N/A',\n",
    "            prev_close\n",
    "        ],\n",
    "        index = my_columns,\n",
    "    ),\n",
    "    \n",
    "    ignore_index = True\n",
    ")"
   ]
  },
  {
   "cell_type": "code",
   "execution_count": 8,
   "id": "19569e0e",
   "metadata": {
    "scrolled": true
   },
   "outputs": [],
   "source": [
    "final_dataframe = pd.DataFrame(columns=my_columns)\n",
    "\n",
    "for stock in stocks['Ticker'][:5]:\n",
    "    api_url = f'https://sandbox.iexapis.com/stable/stock/{stock}/quote?token={IEX_CLOUD_API_TOKEN}'\n",
    "    data = requests.get(api_url).json()\n",
    "    final_dataframe = final_dataframe.append(\n",
    "        pd.Series(\n",
    "            [\n",
    "                stock,\n",
    "                data['latestPrice'],\n",
    "                data['marketCap'],\n",
    "                'N/A',\n",
    "                data['previousClose']\n",
    "            ],\n",
    "            index = my_columns),\n",
    "        ignore_index=True\n",
    ")"
   ]
  },
  {
   "cell_type": "code",
   "execution_count": 9,
   "id": "3b510613",
   "metadata": {},
   "outputs": [
    {
     "data": {
      "text/html": [
       "<div>\n",
       "<style scoped>\n",
       "    .dataframe tbody tr th:only-of-type {\n",
       "        vertical-align: middle;\n",
       "    }\n",
       "\n",
       "    .dataframe tbody tr th {\n",
       "        vertical-align: top;\n",
       "    }\n",
       "\n",
       "    .dataframe thead th {\n",
       "        text-align: right;\n",
       "    }\n",
       "</style>\n",
       "<table border=\"1\" class=\"dataframe\">\n",
       "  <thead>\n",
       "    <tr style=\"text-align: right;\">\n",
       "      <th></th>\n",
       "      <th>Ticker</th>\n",
       "      <th>Stock Price</th>\n",
       "      <th>Market Cap</th>\n",
       "      <th>Number of Shares to Buy</th>\n",
       "      <th>Previous Closing Price</th>\n",
       "    </tr>\n",
       "  </thead>\n",
       "  <tbody>\n",
       "    <tr>\n",
       "      <th>0</th>\n",
       "      <td>A</td>\n",
       "      <td>129.47</td>\n",
       "      <td>39383447165</td>\n",
       "      <td>N/A</td>\n",
       "      <td>124.30</td>\n",
       "    </tr>\n",
       "    <tr>\n",
       "      <th>1</th>\n",
       "      <td>AAL</td>\n",
       "      <td>16.29</td>\n",
       "      <td>10730669074</td>\n",
       "      <td>N/A</td>\n",
       "      <td>17.31</td>\n",
       "    </tr>\n",
       "    <tr>\n",
       "      <th>2</th>\n",
       "      <td>AAP</td>\n",
       "      <td>188.41</td>\n",
       "      <td>11376663416</td>\n",
       "      <td>N/A</td>\n",
       "      <td>202.88</td>\n",
       "    </tr>\n",
       "    <tr>\n",
       "      <th>3</th>\n",
       "      <td>AAPL</td>\n",
       "      <td>142.25</td>\n",
       "      <td>2330816711242</td>\n",
       "      <td>N/A</td>\n",
       "      <td>141.69</td>\n",
       "    </tr>\n",
       "    <tr>\n",
       "      <th>4</th>\n",
       "      <td>ABBV</td>\n",
       "      <td>151.05</td>\n",
       "      <td>276177660837</td>\n",
       "      <td>N/A</td>\n",
       "      <td>158.11</td>\n",
       "    </tr>\n",
       "  </tbody>\n",
       "</table>\n",
       "</div>"
      ],
      "text/plain": [
       "  Ticker  Stock Price     Market Cap Number of Shares to Buy  \\\n",
       "0      A       129.47    39383447165                     N/A   \n",
       "1    AAL        16.29    10730669074                     N/A   \n",
       "2    AAP       188.41    11376663416                     N/A   \n",
       "3   AAPL       142.25  2330816711242                     N/A   \n",
       "4   ABBV       151.05   276177660837                     N/A   \n",
       "\n",
       "   Previous Closing Price  \n",
       "0                  124.30  \n",
       "1                   17.31  \n",
       "2                  202.88  \n",
       "3                  141.69  \n",
       "4                  158.11  "
      ]
     },
     "execution_count": 9,
     "metadata": {},
     "output_type": "execute_result"
    }
   ],
   "source": [
    "final_dataframe"
   ]
  },
  {
   "cell_type": "code",
   "execution_count": 10,
   "id": "caddba61",
   "metadata": {},
   "outputs": [],
   "source": [
    "def chunks(lst, n):\n",
    "    \"\"\"Yield successive n-sized chunks from lst.\"\"\"\n",
    "    for i in range(0, len(lst), n):\n",
    "        yield lst[i:i + n]"
   ]
  },
  {
   "cell_type": "code",
   "execution_count": 11,
   "id": "262a6f45",
   "metadata": {
    "collapsed": true
   },
   "outputs": [
    {
     "data": {
      "text/plain": [
       "[0         A\n",
       " 1       AAL\n",
       " 2       AAP\n",
       " 3      AAPL\n",
       " 4      ABBV\n",
       "       ...  \n",
       " 95     CINF\n",
       " 96       CL\n",
       " 97      CLX\n",
       " 98      CMA\n",
       " 99    CMCSA\n",
       " Name: Ticker, Length: 100, dtype: object,\n",
       " 100     CME\n",
       " 101     CMG\n",
       " 102     CMI\n",
       " 103     CMS\n",
       " 104     CNC\n",
       "        ... \n",
       " 195    FTNT\n",
       " 196     FTV\n",
       " 197      GD\n",
       " 198      GE\n",
       " 199    GILD\n",
       " Name: Ticker, Length: 100, dtype: object,\n",
       " 200     GIS\n",
       " 201      GL\n",
       " 202     GLW\n",
       " 203      GM\n",
       " 204    GOOG\n",
       "        ... \n",
       " 295     MAA\n",
       " 296     MAR\n",
       " 297     MAS\n",
       " 298     MCD\n",
       " 299    MCHP\n",
       " Name: Ticker, Length: 100, dtype: object,\n",
       " 300     MCK\n",
       " 301     MCO\n",
       " 302    MDLZ\n",
       " 303     MDT\n",
       " 304     MET\n",
       "        ... \n",
       " 395     RHI\n",
       " 396     RJF\n",
       " 397      RL\n",
       " 398     RMD\n",
       " 399     ROK\n",
       " Name: Ticker, Length: 100, dtype: object,\n",
       " 400     ROL\n",
       " 401     ROP\n",
       " 402    ROST\n",
       " 403     RSG\n",
       " 404     RTX\n",
       "        ... \n",
       " 495    XLNX\n",
       " 496     XOM\n",
       " 497    XRAY\n",
       " 498     XRX\n",
       " 499     XYL\n",
       " Name: Ticker, Length: 100, dtype: object,\n",
       " 500     YUM\n",
       " 501     ZBH\n",
       " 502    ZBRA\n",
       " 503    ZION\n",
       " 504     ZTS\n",
       " Name: Ticker, dtype: object]"
      ]
     },
     "execution_count": 11,
     "metadata": {},
     "output_type": "execute_result"
    }
   ],
   "source": [
    "symbol_groups = list(chunks(stocks['Ticker'], 100))\n",
    "symbol_groups"
   ]
  }
 ],
 "metadata": {
  "kernelspec": {
   "display_name": "Python 3",
   "language": "python",
   "name": "python3"
  },
  "language_info": {
   "codemirror_mode": {
    "name": "ipython",
    "version": 3
   },
   "file_extension": ".py",
   "mimetype": "text/x-python",
   "name": "python",
   "nbconvert_exporter": "python",
   "pygments_lexer": "ipython3",
   "version": "3.8.8"
  }
 },
 "nbformat": 4,
 "nbformat_minor": 5
}
